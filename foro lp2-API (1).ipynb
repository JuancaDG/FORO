{
 "cells": [
  {
   "cell_type": "code",
   "execution_count": 26,
   "metadata": {},
   "outputs": [
    {
     "name": "stdout",
     "output_type": "stream",
     "text": [
      "Requirement already satisfied: kaggle in c:\\users\\ryzen 5-2600\\anaconda3\\lib\\site-packages (1.5.12)\n",
      "Requirement already satisfied: python-dateutil in c:\\users\\ryzen 5-2600\\anaconda3\\lib\\site-packages (from kaggle) (2.8.1)\n",
      "Requirement already satisfied: urllib3 in c:\\users\\ryzen 5-2600\\anaconda3\\lib\\site-packages (from kaggle) (1.25.11)\n",
      "Requirement already satisfied: six>=1.10 in c:\\users\\ryzen 5-2600\\anaconda3\\lib\\site-packages (from kaggle) (1.15.0)\n",
      "Requirement already satisfied: certifi in c:\\users\\ryzen 5-2600\\anaconda3\\lib\\site-packages (from kaggle) (2020.6.20)\n",
      "Requirement already satisfied: tqdm in c:\\users\\ryzen 5-2600\\anaconda3\\lib\\site-packages (from kaggle) (4.50.2)\n",
      "Requirement already satisfied: requests in c:\\users\\ryzen 5-2600\\anaconda3\\lib\\site-packages (from kaggle) (2.24.0)\n",
      "Requirement already satisfied: python-slugify in c:\\users\\ryzen 5-2600\\anaconda3\\lib\\site-packages (from kaggle) (5.0.2)\n",
      "Requirement already satisfied: chardet<4,>=3.0.2 in c:\\users\\ryzen 5-2600\\anaconda3\\lib\\site-packages (from requests->kaggle) (3.0.4)\n",
      "Requirement already satisfied: idna<3,>=2.5 in c:\\users\\ryzen 5-2600\\anaconda3\\lib\\site-packages (from requests->kaggle) (2.10)\n",
      "Requirement already satisfied: text-unidecode>=1.3 in c:\\users\\ryzen 5-2600\\anaconda3\\lib\\site-packages (from python-slugify->kaggle) (1.3)\n"
     ]
    }
   ],
   "source": [
    "# Nuestra misión es extraer data de la página Kaggle mediante API.\n",
    "# librerías a utilizar\n",
    "# esta librería se utilizará después de haberse logueado y haber obtenido nuestro API\n",
    "!pip install kaggle \n",
    "import kaggle # en realidad no es necesario porque lo que se usará es la clase KaggleApi\n",
    "# Importante!!! Debemos importar la siguiente librería\n",
    "# necesitaremos esto para importar la clase api de kaggle desde el módulo extendido de carga.\n",
    "from kaggle.api.kaggle_api_extended import KaggleApi \n"
   ]
  },
  {
   "cell_type": "code",
   "execution_count": 27,
   "metadata": {},
   "outputs": [
    {
     "name": "stderr",
     "output_type": "stream",
     "text": [
      "100%|█████████████████████████████████████████████████████████████████████████████| 3.18k/3.18k [00:00<00:00, 1.63MB/s]"
     ]
    },
    {
     "name": "stdout",
     "output_type": "stream",
     "text": [
      "Downloading gender_submission.csv to C:\\Users\\RYZEN 5-2600\\Documents\n",
      "\n"
     ]
    },
    {
     "name": "stderr",
     "output_type": "stream",
     "text": [
      "\n"
     ]
    }
   ],
   "source": [
    "# Pasos:\n",
    "# 1. Entrar a la página https://www.kaggle.com/docs/api\n",
    "# 2. Crearse una cuenta en kaggle\n",
    "# 3. Crearse una cuenta para desarrollador y obtener el API: Dirigirse a barra superior(lado derecho)/click foto de perfil/\n",
    "#    cuenta/API/Crear nuevo token de API/Esto activará la descarga de kaggle.jsonun archivo que contiene sus credenciales de API. \n",
    "#    Coloque este archivo en la ubicación ~/.kaggle/kaggle.json(en Windows en la ubicación C:\\Users\\<Windows-username>\\.kaggle\\kaggle.json)\n",
    "\n",
    "# 4. No necesitaremos copiar directamente el APIkey, la librería KaggleApi lo carga automáticamente.  \n",
    "api = KaggleApi() # utilizamos la funcion Kaggle.Api para dar inicio a nuestra api\n",
    "api.authenticate() # auntentica la api\n",
    "\n",
    "# Existen 2 métodos para extraer una base de datos. El primer método consistirá en descargar una base de datos independientes,\n",
    "# y el segundo método consistirá en descargar una base de datos de alguna competencia pasada.\n",
    "# Se hace esta aclaración porque no podremos descargar una base de datos independiente con el método de una base de datos de\n",
    "# competenecia y viceversa.\n",
    "\n",
    "# 5. EJEMPLO1: Vamos a extraer una base de datos independientes de una página de kaggle.\n",
    "# Utilizaremos el siguiente link de datos: https://www.kaggle.com/anandhuh/latest-covid19-india-statewise-data\n",
    "# Para este método se hará lo siguiente: copiar todo lo que sigue después de https://www.kaggle.com/....(se utilizará solo la info \n",
    "# después del \"/\"), en este caso será anandhuh/latest-covid19-india-statewise-data\n",
    "\n",
    "# DINÁMICA\n",
    "# api.dataset_download_file(\"copiar solo la parte que se obtuvo del link\",\n",
    "#                         file_name=\"nombre del conjunto de datos con su respectiva extensión(csv,xlsx,etc)\")\n",
    "\n",
    "api.dataset_download_file(\"anandhuh/latest-covid19-india-statewise-data\",\n",
    "                         file_name=\"Latest Covid-19 India Status.csv\")\n",
    "# Finalmente, verificamos en nuestra área de trabajo(será el directorio donde generaste este archivo .ipynb) la base de datos \n",
    "# descargada.\n",
    "\n",
    "#  EJEMPLO2: Vamos a extraer un conjunto de datos de competencia (está relacionado con una competencia pasada, ejm:La competencia \n",
    "#            es simple: use el aprendizaje automático para crear un modelo que prediga qué pasajeros sobrevivieron al naufragio del \n",
    "#            Titanic). La dinámica de descarga será parecida a la anterior, cambiará el método de \n",
    "#            descarga y ahora usaremos el siguiente link: https://www.kaggle.com/c/titanic,\n",
    "#            se observa que cambia levemente. Ahora tenemos una llave /c/ que indica \"competencia\". Lo que haremos será copiar\n",
    "#            todo lo que sigue después de esa llave, en este caso solo será titanic\n",
    "\n",
    "# DINÁMICA\n",
    "# api.competition_download_file(\"(...)\",\n",
    "#                              \"nombre de la base de datos\")\n",
    "\n",
    "api.competition_download_file(\"titanic\",\n",
    "                             file_name=\"gender_submission.csv\")\n",
    "\n"
   ]
  },
  {
   "cell_type": "code",
   "execution_count": null,
   "metadata": {},
   "outputs": [],
   "source": [
    "# INOÑAN SANDOVAL, JOSÉ AGUSTÍN  20190299\n",
    "# ECHANDIA ORIHUELA, KELLY  20191302\n",
    "# RAMOS ÑAUPARI, DIEGO    20151244"
   ]
  },
  {
   "cell_type": "code",
   "execution_count": null,
   "metadata": {},
   "outputs": [],
   "source": []
  }
 ],
 "metadata": {
  "kernelspec": {
   "display_name": "Python 3",
   "language": "python",
   "name": "python3"
  },
  "language_info": {
   "codemirror_mode": {
    "name": "ipython",
    "version": 3
   },
   "file_extension": ".py",
   "mimetype": "text/x-python",
   "name": "python",
   "nbconvert_exporter": "python",
   "pygments_lexer": "ipython3",
   "version": "3.8.5"
  }
 },
 "nbformat": 4,
 "nbformat_minor": 4
}
